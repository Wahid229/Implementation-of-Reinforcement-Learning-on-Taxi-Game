{
  "nbformat": 4,
  "nbformat_minor": 0,
  "metadata": {
    "colab": {
      "provenance": []
    },
    "kernelspec": {
      "name": "python3",
      "display_name": "Python 3"
    },
    "language_info": {
      "name": "python"
    }
  },
  "cells": [
    {
      "cell_type": "markdown",
      "source": [
        "# Implementation of Reinforcement Learning in Taxi Game\n",
        "\n"
      ],
      "metadata": {
        "id": "wiBCAt4JI3Hy"
      }
    },
    {
      "cell_type": "markdown",
      "source": [
        "Importing important libraries"
      ],
      "metadata": {
        "id": "WOPIh5seJ0qm"
      }
    },
    {
      "cell_type": "code",
      "source": [
        "import tensorflow as tf\n",
        "import gym # openAi gym\n",
        "from gym import envs\n",
        "import numpy as np \n",
        "import pandas as pd "
      ],
      "metadata": {
        "id": "z5705KFR6jVc"
      },
      "execution_count": null,
      "outputs": []
    },
    {
      "cell_type": "markdown",
      "source": [
        "Reinforcement Learning Model"
      ],
      "metadata": {
        "id": "wq0pbyhGz-Pf"
      }
    },
    {
      "cell_type": "markdown",
      "source": [
        "![image.png](data:image/png;base64,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)"
      ],
      "metadata": {
        "id": "IYLZ7KCdOctt"
      }
    },
    {
      "cell_type": "markdown",
      "source": [
        "Building the Taxi Game from OpenAI Gym"
      ],
      "metadata": {
        "id": "AEGws-38LT-D"
      }
    },
    {
      "cell_type": "code",
      "source": [
        "env = gym.make('Taxi-v3')\n",
        "env.reset() #Resets the environment back to its initial state\n",
        "env.render() "
      ],
      "metadata": {
        "id": "jRe7wc4N6ZTf",
        "colab": {
          "base_uri": "https://localhost:8080/"
        },
        "outputId": "5041e20a-f1d8-41f6-ec17-cddbc1dd77d9"
      },
      "execution_count": null,
      "outputs": [
        {
          "output_type": "stream",
          "name": "stdout",
          "text": [
            "+---------+\n",
            "|\u001b[35mR\u001b[0m: | : :G|\n",
            "| : | : : |\n",
            "|\u001b[43m \u001b[0m: : : : |\n",
            "| | : | : |\n",
            "|\u001b[34;1mY\u001b[0m| : |B: |\n",
            "+---------+\n",
            "\n"
          ]
        }
      ]
    },
    {
      "cell_type": "markdown",
      "source": [
        "- Blue: Passenger Pickup (Y)\n",
        "- Purple : Destination (R)\n",
        "- Yellow: Empty taxi\n",
        "- Green: Full Taxi\n",
        "- other letters:Possible Locations"
      ],
      "metadata": {
        "id": "L2E5A0uUMNMP"
      }
    },
    {
      "cell_type": "markdown",
      "source": [
        "Markov Decision Process-States\n"
      ],
      "metadata": {
        "id": "k_PAvsE8NZgw"
      }
    },
    {
      "cell_type": "code",
      "source": [
        "print(env.observation_space)\n",
        "print()\n",
        "env.env.s=29 #Random State\n",
        "env.render()\n",
        "env.env.s = 200 #Random State\n",
        "env.render()"
      ],
      "metadata": {
        "colab": {
          "base_uri": "https://localhost:8080/"
        },
        "id": "TDkxwfC7NJkr",
        "outputId": "8129f4dc-2db2-4136-9535-3cb65f1591da"
      },
      "execution_count": null,
      "outputs": [
        {
          "output_type": "stream",
          "name": "stdout",
          "text": [
            "Discrete(500)\n",
            "\n",
            "+---------+\n",
            "|R:\u001b[43m \u001b[0m| : :\u001b[35mG\u001b[0m|\n",
            "| : | : : |\n",
            "| : : : : |\n",
            "| | : | : |\n",
            "|\u001b[34;1mY\u001b[0m| : |B: |\n",
            "+---------+\n",
            "\n",
            "+---------+\n",
            "|\u001b[35m\u001b[34;1mR\u001b[0m\u001b[0m: | : :G|\n",
            "| : | : : |\n",
            "|\u001b[43m \u001b[0m: : : : |\n",
            "| | : | : |\n",
            "|Y| : |B: |\n",
            "+---------+\n",
            "\n"
          ]
        }
      ]
    },
    {
      "cell_type": "markdown",
      "source": [
        "Markov Decision Process-Action\n",
        "\n",
        "Possible Actions \n",
        "0: move south\n",
        "1: move north\n",
        "2: move east\n",
        "3: move west\n",
        "4: pickup passenger\n",
        "5: dropoff passenger"
      ],
      "metadata": {
        "id": "ldNxuyQPNqlW"
      }
    },
    {
      "cell_type": "code",
      "source": [
        "print(env.action_space)\n",
        "NUM_ACTIONS = env.action_space.n\n",
        "print(\"Possible actions: [0..%a]\" % (NUM_ACTIONS-1))"
      ],
      "metadata": {
        "colab": {
          "base_uri": "https://localhost:8080/"
        },
        "id": "Xeusybv-NoqA",
        "outputId": "145cf1fb-a5c7-43e0-d277-3baef0f35a1f"
      },
      "execution_count": null,
      "outputs": [
        {
          "output_type": "stream",
          "name": "stdout",
          "text": [
            "Discrete(6)\n",
            "Possible actions: [0..5]\n"
          ]
        }
      ]
    },
    {
      "cell_type": "markdown",
      "source": [
        "Printing some random Steps"
      ],
      "metadata": {
        "id": "MlU6wpY7OgOV"
      }
    },
    {
      "cell_type": "code",
      "source": [
        "rew_tot=0\n",
        "obs= env.reset()\n",
        "env.render()\n",
        "for _ in range(6):\n",
        "    action = env.action_space.sample() #take step using random action from possible actions (actio_space)\n",
        "    obs, rew, done, info = env.step(action) \n",
        "    rew_tot = rew_tot + rew\n",
        "    env.render()\n",
        "#Print the reward of these random action\n",
        "print(\"Reward: %r\" % rew_tot) "
      ],
      "metadata": {
        "colab": {
          "base_uri": "https://localhost:8080/"
        },
        "id": "riBj4sUg8Pfj",
        "outputId": "87a9ad08-b477-422b-bab8-bbf08ff1631f"
      },
      "execution_count": null,
      "outputs": [
        {
          "output_type": "stream",
          "name": "stdout",
          "text": [
            "+---------+\n",
            "|R: | : :\u001b[34;1mG\u001b[0m|\n",
            "| : | : : |\n",
            "| : : : : |\n",
            "| | : | : |\n",
            "|Y| :\u001b[43m \u001b[0m|\u001b[35mB\u001b[0m: |\n",
            "+---------+\n",
            "\n",
            "+---------+\n",
            "|R: | : :\u001b[34;1mG\u001b[0m|\n",
            "| : | : : |\n",
            "| : : : : |\n",
            "| | : | : |\n",
            "|Y| :\u001b[43m \u001b[0m|\u001b[35mB\u001b[0m: |\n",
            "+---------+\n",
            "  (Dropoff)\n",
            "+---------+\n",
            "|R: | : :\u001b[34;1mG\u001b[0m|\n",
            "| : | : : |\n",
            "| : : : : |\n",
            "| | : | : |\n",
            "|Y| :\u001b[43m \u001b[0m|\u001b[35mB\u001b[0m: |\n",
            "+---------+\n",
            "  (South)\n",
            "+---------+\n",
            "|R: | : :\u001b[34;1mG\u001b[0m|\n",
            "| : | : : |\n",
            "| : : : : |\n",
            "| | :\u001b[43m \u001b[0m| : |\n",
            "|Y| : |\u001b[35mB\u001b[0m: |\n",
            "+---------+\n",
            "  (North)\n",
            "+---------+\n",
            "|R: | : :\u001b[34;1mG\u001b[0m|\n",
            "| : | : : |\n",
            "| : : : : |\n",
            "| | :\u001b[43m \u001b[0m| : |\n",
            "|Y| : |\u001b[35mB\u001b[0m: |\n",
            "+---------+\n",
            "  (Dropoff)\n",
            "+---------+\n",
            "|R: | : :\u001b[34;1mG\u001b[0m|\n",
            "| : | : : |\n",
            "| : : : : |\n",
            "| |\u001b[43m \u001b[0m: | : |\n",
            "|Y| : |\u001b[35mB\u001b[0m: |\n",
            "+---------+\n",
            "  (West)\n",
            "+---------+\n",
            "|R: | : :\u001b[34;1mG\u001b[0m|\n",
            "| : | : : |\n",
            "| : : : : |\n",
            "| | :\u001b[43m \u001b[0m| : |\n",
            "|Y| : |\u001b[35mB\u001b[0m: |\n",
            "+---------+\n",
            "  (East)\n",
            "Reward: -24\n"
          ]
        }
      ]
    },
    {
      "cell_type": "markdown",
      "source": [
        "Value Iteration Algorithm "
      ],
      "metadata": {
        "id": "8SY8IjHsOrqb"
      }
    },
    {
      "cell_type": "code",
      "source": [
        "NUM_ACTIONS = env.action_space.n #assigning action\n",
        "NUM_STATES = env.observation_space.n #assigning state\n",
        "V = np.zeros([NUM_STATES]) # The Value for each state\n",
        "Pi = np.zeros([NUM_STATES], dtype=int)  # policy\n",
        "gamma = 0.9 # discount factor\n",
        "significant_improvement = 0.01\n",
        "\n",
        "def best_action_value(s):\n",
        "    # to find the highest value action (max_a) in state s\n",
        "    best_a = None\n",
        "    best_value = float('-inf') # negative infinity\n",
        "\n",
        "    # Adding a loop to run in all possible actions to find the best current action\n",
        "    for a in range (0, NUM_ACTIONS):\n",
        "        env.env.s = s\n",
        "        s_new, rew, done, info = env.step(a) #take the action\n",
        "        v = rew + gamma * V[s_new]\n",
        "        if v > best_value:\n",
        "            best_value = v\n",
        "            best_a = a\n",
        "    return best_a\n",
        "\n",
        "iteration = 0 #intializing\n",
        "while True:\n",
        "    # biggest_change is referred to by the mathematical symbol delta in equations\n",
        "    biggest_change = 0\n",
        "    for s in range (0, NUM_STATES):\n",
        "        old_v = V[s]\n",
        "        action = best_action_value(s) #choosing an action with the highest future reward\n",
        "        env.env.s = s # goto the state\n",
        "        s_new, rew, done, info = env.step(action) #take the action\n",
        "        V[s] = rew + gamma * V[s_new] #Update Value for the state using Bellman equation\n",
        "        Pi[s] = action\n",
        "        biggest_change = max(biggest_change, np.abs(old_v - V[s]))\n",
        "    iteration += 1\n",
        "    if biggest_change < significant_improvement:\n",
        "        print (iteration,' iterations done')\n",
        "        break"
      ],
      "metadata": {
        "colab": {
          "base_uri": "https://localhost:8080/"
        },
        "id": "YjolSJF48OHe",
        "outputId": "29f05ee7-ccd0-4b2e-d3a1-48d06120cf50"
      },
      "execution_count": null,
      "outputs": [
        {
          "output_type": "stream",
          "name": "stdout",
          "text": [
            "41  iterations done\n"
          ]
        }
      ]
    },
    {
      "cell_type": "markdown",
      "source": [
        "Implementing the algorithm in Taxi game"
      ],
      "metadata": {
        "id": "i-2voRFzQal3"
      }
    },
    {
      "cell_type": "code",
      "source": [
        "rew_tot=0\n",
        "obs= env.reset()\n",
        "env.render()\n",
        "done=False\n",
        "while done != True: \n",
        "    action = Pi[obs]\n",
        "    obs, rew, done, info = env.step(action) #take step using selected action\n",
        "    rew_tot = rew_tot + rew\n",
        "    env.render()\n",
        "#Print the reward of these actions\n",
        "print(\"Reward: %r\" % rew_tot) "
      ],
      "metadata": {
        "colab": {
          "base_uri": "https://localhost:8080/"
        },
        "id": "ifrOmGmb8a27",
        "outputId": "9a2446ba-4edf-4867-e2b3-163700603b85"
      },
      "execution_count": null,
      "outputs": [
        {
          "output_type": "stream",
          "name": "stdout",
          "text": [
            "+---------+\n",
            "|\u001b[34;1mR\u001b[0m:\u001b[43m \u001b[0m| : :G|\n",
            "| : | : : |\n",
            "| : : : : |\n",
            "| | : | : |\n",
            "|\u001b[35mY\u001b[0m| : |B: |\n",
            "+---------+\n",
            "\n",
            "+---------+\n",
            "|\u001b[34;1m\u001b[43mR\u001b[0m\u001b[0m: | : :G|\n",
            "| : | : : |\n",
            "| : : : : |\n",
            "| | : | : |\n",
            "|\u001b[35mY\u001b[0m| : |B: |\n",
            "+---------+\n",
            "  (West)\n",
            "+---------+\n",
            "|\u001b[42mR\u001b[0m: | : :G|\n",
            "| : | : : |\n",
            "| : : : : |\n",
            "| | : | : |\n",
            "|\u001b[35mY\u001b[0m| : |B: |\n",
            "+---------+\n",
            "  (Pickup)\n",
            "+---------+\n",
            "|R: | : :G|\n",
            "|\u001b[42m_\u001b[0m: | : : |\n",
            "| : : : : |\n",
            "| | : | : |\n",
            "|\u001b[35mY\u001b[0m| : |B: |\n",
            "+---------+\n",
            "  (South)\n",
            "+---------+\n",
            "|R: | : :G|\n",
            "| : | : : |\n",
            "|\u001b[42m_\u001b[0m: : : : |\n",
            "| | : | : |\n",
            "|\u001b[35mY\u001b[0m| : |B: |\n",
            "+---------+\n",
            "  (South)\n",
            "+---------+\n",
            "|R: | : :G|\n",
            "| : | : : |\n",
            "| : : : : |\n",
            "|\u001b[42m_\u001b[0m| : | : |\n",
            "|\u001b[35mY\u001b[0m| : |B: |\n",
            "+---------+\n",
            "  (South)\n",
            "+---------+\n",
            "|R: | : :G|\n",
            "| : | : : |\n",
            "| : : : : |\n",
            "| | : | : |\n",
            "|\u001b[35m\u001b[42mY\u001b[0m\u001b[0m| : |B: |\n",
            "+---------+\n",
            "  (South)\n",
            "+---------+\n",
            "|R: | : :G|\n",
            "| : | : : |\n",
            "| : : : : |\n",
            "| | : | : |\n",
            "|\u001b[35m\u001b[34;1m\u001b[43mY\u001b[0m\u001b[0m\u001b[0m| : |B: |\n",
            "+---------+\n",
            "  (Dropoff)\n",
            "Reward: 14\n"
          ]
        }
      ]
    },
    {
      "cell_type": "markdown",
      "source": [
        "Applying Q-Learning algorithm to taxi game"
      ],
      "metadata": {
        "id": "kChSFN-sQrbO"
      }
    },
    {
      "cell_type": "code",
      "source": [
        "NUM_ACTIONS = env.action_space.n\n",
        "NUM_STATES = env.observation_space.n\n",
        "Q = np.zeros([NUM_STATES, NUM_ACTIONS]) #Assiging\n",
        "gamma = 0.9 # discount factor\n",
        "alpha = 0.9 # learning rate\n",
        "for episode in range(1,1001):\n",
        "    done = False\n",
        "    rew_tot = 0\n",
        "    obs = env.reset()\n",
        "    while done != True:\n",
        "            action = np.argmax(Q[obs]) #choosing the action with the highest Q value \n",
        "            obs2, rew, done, info = env.step(action) #take the action\n",
        "            Q[obs,action] += alpha * (rew + gamma * np.max(Q[obs2]) - Q[obs,action]) #Update Q-marix using Bellman equation\n",
        "            rew_tot = rew_tot + rew\n",
        "            obs = obs2   \n",
        "    if episode % 50 == 0:\n",
        "        print('Episode {} Total Reward: {}'.format(episode,rew_tot))\n"
      ],
      "metadata": {
        "colab": {
          "base_uri": "https://localhost:8080/"
        },
        "id": "E8aJvULI9Z7V",
        "outputId": "07c3cb73-a7c7-46f5-adb8-bd3fdd79d85f"
      },
      "execution_count": null,
      "outputs": [
        {
          "output_type": "stream",
          "name": "stdout",
          "text": [
            "Episode 50 Total Reward: -95\n",
            "Episode 100 Total Reward: -31\n",
            "Episode 150 Total Reward: -15\n",
            "Episode 200 Total Reward: 1\n",
            "Episode 250 Total Reward: -13\n",
            "Episode 300 Total Reward: 5\n",
            "Episode 350 Total Reward: 13\n",
            "Episode 400 Total Reward: 8\n",
            "Episode 450 Total Reward: 8\n",
            "Episode 500 Total Reward: 11\n",
            "Episode 550 Total Reward: 10\n",
            "Episode 600 Total Reward: 11\n",
            "Episode 650 Total Reward: 6\n",
            "Episode 700 Total Reward: 7\n",
            "Episode 750 Total Reward: 7\n",
            "Episode 800 Total Reward: 10\n",
            "Episode 850 Total Reward: 7\n",
            "Episode 900 Total Reward: 7\n",
            "Episode 950 Total Reward: 7\n",
            "Episode 1000 Total Reward: 7\n"
          ]
        }
      ]
    },
    {
      "cell_type": "markdown",
      "source": [
        "After the implementation of Q learning,the agent is geting more positive rewards afterwards(300 episodes)"
      ],
      "metadata": {
        "id": "YaxjhhdDRVfN"
      }
    },
    {
      "cell_type": "code",
      "source": [],
      "metadata": {
        "id": "6tQDy4uORtpK"
      },
      "execution_count": null,
      "outputs": []
    }
  ]
}